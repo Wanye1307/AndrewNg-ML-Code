{
 "cells": [
  {
   "cell_type": "markdown",
   "metadata": {},
   "source": [
    "### Recommend System"
   ]
  },
  {
   "cell_type": "code",
   "execution_count": 1,
   "metadata": {},
   "outputs": [],
   "source": [
    "import numpy as np\n",
    "import matplotlib.pyplot as plt\n",
    "import scipy.io as scio"
   ]
  },
  {
   "cell_type": "code",
   "execution_count": 118,
   "metadata": {},
   "outputs": [
    {
     "name": "stdout",
     "output_type": "stream",
     "text": [
      "dict_keys(['__header__', '__version__', '__globals__', 'Y', 'R'])\n",
      "(1682, 943) (1682, 943)\n"
     ]
    }
   ],
   "source": [
    "train_data = scio.loadmat(\"./ex8_movies.mat\")\n",
    "print(train_data.keys())\n",
    "Y = train_data['Y']\n",
    "R = train_data['R']\n",
    "print(Y.shape, R.shape)"
   ]
  },
  {
   "cell_type": "code",
   "execution_count": 4,
   "metadata": {},
   "outputs": [
    {
     "name": "stdout",
     "output_type": "stream",
     "text": [
      "1.8589607635206786\n"
     ]
    }
   ],
   "source": [
    "avg = np.mean(Y, axis=1)\n",
    "print(avg[0])"
   ]
  },
  {
   "cell_type": "code",
   "execution_count": 128,
   "metadata": {
    "scrolled": true
   },
   "outputs": [],
   "source": [
    "def get_loss(X, Theta, Y, R, lamb=0):\n",
    "    return np.sum(((X.dot(Theta.T) - Y) * R) ** 2) / 2 + lamb * np.sum(Theta ** 2) / 2 + lamb * np.sum(X ** 2) / 2\n",
    "\n",
    "def grad_by_x(X, Theta, Y, R, lamb=0):\n",
    "    return ((X.dot(Theta.T) - Y) * R).dot(Theta) + lamb * X\n",
    "\n",
    "def grad_by_theta(X, Theta, Y, R, lamb=0):\n",
    "    return ((X.dot(Theta.T) - Y) * R).T.dot(X) + lamb * Theta\n"
   ]
  },
  {
   "cell_type": "code",
   "execution_count": 167,
   "metadata": {},
   "outputs": [
    {
     "name": "stdout",
     "output_type": "stream",
     "text": [
      "dict_keys(['__header__', '__version__', '__globals__', 'X', 'Theta', 'num_users', 'num_movies', 'num_features'])\n",
      "(1682, 10) (943, 10)\n",
      "22.224603725685675\n",
      "31.34405624427422\n",
      "27918.64012454421\n",
      "32520.682450229557\n"
     ]
    }
   ],
   "source": [
    "# Use the debug params to check our function\n",
    "train_data = scio.loadmat(\"./ex8_movieParams.mat\")\n",
    "print(train_data.keys())\n",
    "X_d = train_data['X']\n",
    "Theta_d = train_data['Theta']\n",
    "print(X_d.shape, Theta_d.shape)\n",
    "print(get_loss(X_d[:5,:3], Theta_d[:4,:3], Y[:5,:4], R[:5,:4]))\n",
    "print(get_loss(X_d[:5,:3], Theta_d[:4,:3], Y[:5,:4], R[:5,:4], lamb=1.5))\n",
    "\n",
    "print(get_loss(X_d, Theta_d, Y, R))\n",
    "print(get_loss(X_d, Theta_d, Y, R, 1))"
   ]
  },
  {
   "cell_type": "code",
   "execution_count": 126,
   "metadata": {
    "scrolled": false
   },
   "outputs": [
    {
     "name": "stdout",
     "output_type": "stream",
     "text": [
      "-6.261841372179332\n",
      "-6.261841441787519\n",
      "5.5581243795574405e-09\n"
     ]
    }
   ],
   "source": [
    "# Gradient checking\n",
    "epsilon = 1e-5\n",
    "X_d_plus = np.copy(X_d)\n",
    "X_d_plus[0][0] += epsilon\n",
    "X_d_minus = np.copy(X_d)\n",
    "X_d_minus[0][0] -= epsilon\n",
    "\n",
    "grad_expected = (get_loss(X_d_plus, Theta_d, Y, R) - get_loss(X_d_minus, Theta_d, Y, R)) / (2 * epsilon)\n",
    "print(grad_expected)\n",
    "grad = grad_by_x(X_d, Theta_d, Y, R)\n",
    "print(grad[0][0])\n",
    "diff = np.linalg.norm(grad_expected - grad[0][0]) / np.linalg.norm(grad_expected + grad[0][0])\n",
    "\n",
    "print(diff)"
   ]
  },
  {
   "cell_type": "code",
   "execution_count": 180,
   "metadata": {},
   "outputs": [],
   "source": [
    "def train(Y, X, Theta, R, lr=1e-4, epochs=1000, lamb=1):\n",
    "    for e in range(epochs):\n",
    "        if e % 100 == 0:\n",
    "            loss = get_loss(X, Theta, Y, R, lamb)\n",
    "            print('loss:', loss)\n",
    "        X -= lr * grad_by_x(X, Theta, Y, R, lamb)\n",
    "        Theta -= lr * grad_by_theta(X, Theta, Y, R, lamb)\n",
    "#     loss = get_loss(X, Theta, Y, R, lamb)\n",
    "#     print(loss)\n",
    "    return X, Theta"
   ]
  },
  {
   "cell_type": "code",
   "execution_count": 153,
   "metadata": {},
   "outputs": [
    {
     "name": "stdout",
     "output_type": "stream",
     "text": [
      "[2.59488072 2.28244827 2.0749319  ... 1.52561349 2.99964275 2.19826318]\n"
     ]
    }
   ],
   "source": [
    "# Training\n",
    "N = 10\n",
    "num_movie, num_user = Y.shape\n",
    "X = np.random.rand(num_movie, N)\n",
    "Theta = np.random.rand(num_user, N)\n",
    "X, Theta = train(Y, X, Theta, R)\n",
    "predict = X.dot(Theta.T)\n",
    "print(predict[:,1])"
   ]
  },
  {
   "cell_type": "code",
   "execution_count": 123,
   "metadata": {
    "scrolled": true
   },
   "outputs": [
    {
     "name": "stdout",
     "output_type": "stream",
     "text": [
      "New user ratings:\n",
      "Rated 4.0 for  Toy Story (1995)\n",
      "\n",
      "Rated 3.0 for  Twelve Monkeys (1995)\n",
      "\n",
      "Rated 5.0 for  Usual Suspects, The (1995)\n",
      "\n",
      "Rated 4.0 for  Outbreak (1995)\n",
      "\n",
      "Rated 5.0 for  Shawshank Redemption, The (1994)\n",
      "\n",
      "Rated 3.0 for  While You Were Sleeping (1995)\n",
      "\n",
      "Rated 5.0 for  Forrest Gump (1994)\n",
      "\n",
      "Rated 2.0 for  Silence of the Lambs, The (1991)\n",
      "\n",
      "Rated 4.0 for  Alien (1979)\n",
      "\n",
      "Rated 5.0 for  Die Hard 2 (1990)\n",
      "\n",
      "Rated 5.0 for  Sphere (1998)\n",
      "\n"
     ]
    }
   ],
   "source": [
    "import codecs\n",
    "\n",
    "f = codecs.open(\"movie_ids.txt\", \"r\", encoding = \"ISO-8859-1\")\n",
    "lines = f.readlines()\n",
    "movie_ids = {}\n",
    "for line in lines:\n",
    "    i = line.index(' ')\n",
    "    movie_ids[int(line[:i])] = line[i:]\n",
    "# print(movie_ids)\n",
    "\n",
    "# Assume a new user have some rating\n",
    "my_ratings = np.zeros([len(Y)])\n",
    "my_ratings[0] = 4\n",
    "my_ratings[97] = 2\n",
    "my_ratings[6] = 3\n",
    "my_ratings[11]= 5\n",
    "my_ratings[53] = 4\n",
    "my_ratings[63]= 5\n",
    "my_ratings[65]= 3\n",
    "my_ratings[68] = 5\n",
    "my_ratings[182] = 4\n",
    "my_ratings[225] = 5\n",
    "my_ratings[354]= 5\n",
    "\n",
    "print(\"New user ratings:\\n\")\n",
    "for i in range(len(my_ratings)):\n",
    "    if my_ratings[i] > 0:\n",
    "        print(\"Rated {} for {}\".format(my_ratings[i], movie_ids[i + 1]))\n",
    "        "
   ]
  },
  {
   "cell_type": "code",
   "execution_count": 187,
   "metadata": {},
   "outputs": [
    {
     "name": "stdout",
     "output_type": "stream",
     "text": [
      "(1682, 944) (1682, 944)\n",
      "loss: 3640386.6105396235\n",
      "loss: 115819.06503815248\n",
      "loss: 92381.05829787612\n",
      "loss: 96896.9651042002\n",
      "loss: 92749.08955709089\n",
      "[1.61448307 2.05922556 1.79214008 2.13710909 1.82494634 0.80732568\n",
      " 1.35255467 2.04033561 1.41987153 1.82037749]\n",
      "Top recommendations for you:\n",
      "Predicting rating 6.36 for movie  Return of the Jedi (1983)\n",
      " \n",
      "\n",
      "Predicting rating 4.17 for movie  Star Wars (1977)\n",
      " \n",
      "\n",
      "Predicting rating 2.65 for movie  Die Hard (1988)\n",
      " \n",
      "\n",
      "Predicting rating 2.63 for movie  Close Shave, A (1995)\n",
      " \n",
      "\n",
      "Predicting rating 2.62 for movie  Wallace & Gromit: The Best of Aardman Animation (1996)\n",
      " \n",
      "\n",
      "Predicting rating 2.60 for movie  Shawshank Redemption, The (1994)\n",
      " \n",
      "\n",
      "Predicting rating 2.59 for movie  Great Escape, The (1963)\n",
      " \n",
      "\n",
      "Predicting rating 2.59 for movie  Face/Off (1997)\n",
      " \n",
      "\n",
      "Predicting rating 2.56 for movie  Terminator 2: Judgment Day (1991)\n",
      " \n",
      "\n",
      "Predicting rating 2.54 for movie  Forrest Gump (1994)\n",
      " \n",
      "\n"
     ]
    }
   ],
   "source": [
    "# Now add this new rating into our rating matrix\n",
    "num_feat = 50\n",
    "Ynew = np.c_[my_ratings, Y]\n",
    "Rnew = np.c_[np.array([1 if r > 0 else 0 for r in my_ratings]), R]\n",
    "print(Ynew.shape, Rnew.shape)\n",
    "Xnew = np.random.standard_normal((len(Ynew), num_feat))\n",
    "Tnew = np.random.standard_normal((Ynew.shape[1], num_feat))\n",
    "Ymean = np.mean(Ynew, axis=1).reshape(-1, 1)\n",
    "Ynorm = Ynew - Ymean\n",
    "# print(np.mean(Ynorm))\n",
    "Xtrain, Ttrain = train(Ynorm, Xnew, Tnew, Rnew, lr=2e-3, epochs=500, lamb=10)\n",
    "predict = Xtrain.dot(Ttrain.T)\n",
    "my_predict = predict[:,0] + Ymean\n",
    "print(predict[:10,0])\n",
    "\n",
    "# Sort by rate, recommend some movies with higher score to this new user\n",
    "# indexes = sorted(range(len(predict[:,0])), key=lambda i: predict[i,0], reverse=True)\n",
    "indexes = np.argsort(-predict[:,0])\n",
    "# print(indexes)\n",
    "\n",
    "print(\"Top recommendations for you:\\n\")\n",
    "for i in indexes[:10]:\n",
    "    print(\"Predicting rating %.2f for movie %s\" % (predict[i,0], movie_ids[i + 1]))"
   ]
  }
 ],
 "metadata": {
  "kernelspec": {
   "display_name": "Python 3",
   "language": "python",
   "name": "python3"
  },
  "language_info": {
   "codemirror_mode": {
    "name": "ipython",
    "version": 3
   },
   "file_extension": ".py",
   "mimetype": "text/x-python",
   "name": "python",
   "nbconvert_exporter": "python",
   "pygments_lexer": "ipython3",
   "version": "3.6.5"
  }
 },
 "nbformat": 4,
 "nbformat_minor": 5
}
